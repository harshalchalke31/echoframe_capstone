{
 "cells": [
  {
   "cell_type": "markdown",
   "id": "1ae61a71",
   "metadata": {},
   "source": [
    "## Dependencies"
   ]
  },
  {
   "cell_type": "code",
   "execution_count": 1,
   "id": "901f6f0b",
   "metadata": {},
   "outputs": [],
   "source": [
    "import os\n",
    "import torch\n",
    "from torch.utils.data import DataLoader\n",
    "import torchvision.transforms.functional as TF\n",
    "from src_3d.data_loader import EchoNetDataset\n",
    "from src_3d.utils import visualize_random_video_from_loader, test_3d_unet, visualize_clip_with_overlay, save_overlay_gif_from_loader\n",
    "# from src.model11 import MobileNetV3UNet3D\n",
    "from src_3d.train1 import train_UNet3D_weak_supervision\n",
    "from src_3d.model1 import MobileNetV3UNet3D\n",
    "\n",
    "# Global parameters\n",
    "torch.manual_seed(42)\n",
    "T = 16 # video length\n",
    "batch_size=4\n",
    "device = 'cuda' if torch.cuda.is_available() else 'cpu'\n",
    "lr = 1e-3\n",
    "num_epochs = 500\n",
    "patience=10\n",
    "\n",
    "data_path = r\"C:\\Projects\\python\\echoframe\\data\\EchoNet-Dynamic\\EchoNet-Dynamic\"\n",
    "\n",
    "model_path_1 = r'./models/pretrained_mobilenet_3d.pt'\n",
    "log_path_1 = r'./logs/pretrained_mobilenet_3d.csv'\n",
    "model_path_2 = r'./models/pretrained_masked_mobilenet_3d.pt'\n",
    "log_path_2 = r'./logs/masked_autoencoder.csv'\n",
    "model_path_3 = r'./models/scratch_mobilenet_3d.pt'\n",
    "log_path_3 = r'./logs/scratch_mobilenet_3d.csv'\n"
   ]
  },
  {
   "cell_type": "markdown",
   "id": "0cd9d5c8",
   "metadata": {},
   "source": [
    "## Load Data"
   ]
  },
  {
   "cell_type": "code",
   "execution_count": 2,
   "id": "c79a329c",
   "metadata": {},
   "outputs": [
    {
     "name": "stdout",
     "output_type": "stream",
     "text": [
      "[EchoNetDataset] Final usable videos: 7460\n",
      "[EchoNetDataset] Final usable videos: 1288\n",
      "[EchoNetDataset] Final usable videos: 1276\n"
     ]
    }
   ],
   "source": [
    "train_data = EchoNetDataset(root=data_path,\n",
    "                              split='train',\n",
    "                              length=T)\n",
    "train_loader = DataLoader(dataset=train_data,\n",
    "                          batch_size=batch_size,\n",
    "                          shuffle=True)\n",
    "\n",
    "val_data = EchoNetDataset(root=data_path,\n",
    "                          split='val',\n",
    "                          length=T)\n",
    "val_loader = DataLoader(dataset=val_data,\n",
    "                        batch_size=batch_size)\n",
    "\n",
    "test_data = EchoNetDataset(root=data_path,\n",
    "                           split='test',\n",
    "                           length=T)\n",
    "test_loader = DataLoader(dataset=test_data,\n",
    "                         batch_size=4)"
   ]
  },
  {
   "cell_type": "markdown",
   "id": "d73f6553",
   "metadata": {},
   "source": [
    "## Train"
   ]
  },
  {
   "cell_type": "markdown",
   "id": "2f369b22",
   "metadata": {},
   "source": [
    "### Model 1 - Pretrained MobileNet3D"
   ]
  },
  {
   "cell_type": "code",
   "execution_count": null,
   "id": "8b4d71ac",
   "metadata": {},
   "outputs": [
    {
     "name": "stderr",
     "output_type": "stream",
     "text": [
      "                                                                       \r"
     ]
    },
    {
     "name": "stdout",
     "output_type": "stream",
     "text": [
      "Epoch 1/500 | Train Loss: 0.2412 | Valid Loss: 0.1783 | Valid Dice: 0.8874 | Patience: 0\n"
     ]
    },
    {
     "name": "stderr",
     "output_type": "stream",
     "text": [
      "                                                                       \r"
     ]
    },
    {
     "name": "stdout",
     "output_type": "stream",
     "text": [
      "Epoch 2/500 | Train Loss: 0.1779 | Valid Loss: 0.1652 | Valid Dice: 0.8933 | Patience: 0\n"
     ]
    },
    {
     "name": "stderr",
     "output_type": "stream",
     "text": [
      "                                                                       \r"
     ]
    },
    {
     "name": "stdout",
     "output_type": "stream",
     "text": [
      "Epoch 3/500 | Train Loss: 0.1695 | Valid Loss: 0.1743 | Valid Dice: 0.8904 | Patience: 1\n"
     ]
    },
    {
     "name": "stderr",
     "output_type": "stream",
     "text": [
      "                                                                       \r"
     ]
    },
    {
     "name": "stdout",
     "output_type": "stream",
     "text": [
      "Epoch 4/500 | Train Loss: 0.1619 | Valid Loss: 0.1488 | Valid Dice: 0.9049 | Patience: 0\n"
     ]
    },
    {
     "name": "stderr",
     "output_type": "stream",
     "text": [
      "                                                                       \r"
     ]
    },
    {
     "name": "stdout",
     "output_type": "stream",
     "text": [
      "Epoch 5/500 | Train Loss: 0.1555 | Valid Loss: 0.1492 | Valid Dice: 0.9040 | Patience: 1\n"
     ]
    },
    {
     "name": "stderr",
     "output_type": "stream",
     "text": [
      "                                                                       \r"
     ]
    },
    {
     "name": "stdout",
     "output_type": "stream",
     "text": [
      "Epoch 6/500 | Train Loss: 0.1529 | Valid Loss: 0.1535 | Valid Dice: 0.9019 | Patience: 2\n"
     ]
    },
    {
     "name": "stderr",
     "output_type": "stream",
     "text": [
      "                                                                       \r"
     ]
    },
    {
     "name": "stdout",
     "output_type": "stream",
     "text": [
      "Epoch 7/500 | Train Loss: 0.1530 | Valid Loss: 0.1419 | Valid Dice: 0.9091 | Patience: 0\n"
     ]
    },
    {
     "name": "stderr",
     "output_type": "stream",
     "text": [
      "                                                                       \r"
     ]
    },
    {
     "name": "stdout",
     "output_type": "stream",
     "text": [
      "Epoch 8/500 | Train Loss: 0.1490 | Valid Loss: 0.1427 | Valid Dice: 0.9083 | Patience: 1\n"
     ]
    },
    {
     "name": "stderr",
     "output_type": "stream",
     "text": [
      "                                                                       \r"
     ]
    },
    {
     "name": "stdout",
     "output_type": "stream",
     "text": [
      "Epoch 9/500 | Train Loss: 0.1476 | Valid Loss: 0.1440 | Valid Dice: 0.9078 | Patience: 2\n"
     ]
    },
    {
     "name": "stderr",
     "output_type": "stream",
     "text": [
      "                                                                        \r"
     ]
    },
    {
     "name": "stdout",
     "output_type": "stream",
     "text": [
      "Epoch 10/500 | Train Loss: 0.1439 | Valid Loss: 0.1401 | Valid Dice: 0.9097 | Patience: 0\n"
     ]
    },
    {
     "name": "stderr",
     "output_type": "stream",
     "text": [
      "                                                                        \r"
     ]
    },
    {
     "name": "stdout",
     "output_type": "stream",
     "text": [
      "Epoch 11/500 | Train Loss: 0.1434 | Valid Loss: 0.1407 | Valid Dice: 0.9094 | Patience: 1\n"
     ]
    },
    {
     "name": "stderr",
     "output_type": "stream",
     "text": [
      "                                                                        \r"
     ]
    },
    {
     "name": "stdout",
     "output_type": "stream",
     "text": [
      "Epoch 12/500 | Train Loss: 0.1404 | Valid Loss: 0.1366 | Valid Dice: 0.9118 | Patience: 0\n"
     ]
    },
    {
     "name": "stderr",
     "output_type": "stream",
     "text": [
      "                                                                        \r"
     ]
    },
    {
     "name": "stdout",
     "output_type": "stream",
     "text": [
      "Epoch 13/500 | Train Loss: 0.1395 | Valid Loss: 0.1425 | Valid Dice: 0.9081 | Patience: 1\n"
     ]
    },
    {
     "name": "stderr",
     "output_type": "stream",
     "text": [
      "                                                                        \r"
     ]
    },
    {
     "name": "stdout",
     "output_type": "stream",
     "text": [
      "Epoch 14/500 | Train Loss: 0.1386 | Valid Loss: 0.1380 | Valid Dice: 0.9113 | Patience: 2\n"
     ]
    },
    {
     "name": "stderr",
     "output_type": "stream",
     "text": [
      "                                                                        \r"
     ]
    },
    {
     "name": "stdout",
     "output_type": "stream",
     "text": [
      "Epoch 15/500 | Train Loss: 0.1365 | Valid Loss: 0.1351 | Valid Dice: 0.9128 | Patience: 0\n"
     ]
    },
    {
     "name": "stderr",
     "output_type": "stream",
     "text": [
      "                                                                        \r"
     ]
    },
    {
     "name": "stdout",
     "output_type": "stream",
     "text": [
      "Epoch 16/500 | Train Loss: 0.1372 | Valid Loss: 0.1341 | Valid Dice: 0.9134 | Patience: 0\n"
     ]
    },
    {
     "name": "stderr",
     "output_type": "stream",
     "text": [
      "                                                                        \r"
     ]
    },
    {
     "name": "stdout",
     "output_type": "stream",
     "text": [
      "Epoch 17/500 | Train Loss: 0.1345 | Valid Loss: 0.1490 | Valid Dice: 0.9054 | Patience: 1\n"
     ]
    },
    {
     "name": "stderr",
     "output_type": "stream",
     "text": [
      "Epoch 18 [Training]:  93%|█████████▎| 1737/1865 [10:30<00:48,  2.62it/s]"
     ]
    }
   ],
   "source": [
    "model_1 = MobileNetV3UNet3D()\n",
    "# model_1.encoder.load_state_dict(torch.load(\"./models/pretrained_encoder.pt\"))\n",
    "\n",
    "# train_UNet3D_weak_supervision(model=model_1,\n",
    "#                               train_loader=train_loader,\n",
    "#                               valid_loader=val_loader,\n",
    "#                               device=device,\n",
    "#                               num_epochs=num_epochs,\n",
    "#                               lr=lr,\n",
    "#                               log_path=log_path_1,\n",
    "#                               model_path=model_path_1,\n",
    "#                               patience=patience)"
   ]
  },
  {
   "cell_type": "markdown",
   "id": "ddba0186",
   "metadata": {},
   "source": [
    "#### Test"
   ]
  },
  {
   "cell_type": "code",
   "execution_count": null,
   "id": "bc86bc87",
   "metadata": {},
   "outputs": [
    {
     "name": "stdout",
     "output_type": "stream",
     "text": [
      "✅ Saved overlay GIF to: ./assets/annotated_echocardigram_1.gif\n"
     ]
    }
   ],
   "source": [
    "test_3d_unet(model=model_1,\n",
    "             test_loader=test_loader,\n",
    "             model_path=model_path_1,\n",
    "             device=device)\n",
    "\n",
    "visualize_clip_with_overlay(model=model_1,\n",
    "                            test_loader=test_loader,\n",
    "                            model_path=model_path_1,\n",
    "                            device=device)\n",
    "save_overlay_gif_from_loader(model=model_1,\n",
    "                               test_loader=test_loader,\n",
    "                               model_path=model_path_1,\n",
    "                               save_path='./assets/annotated_echocardigram_1.gif',\n",
    "                               batch_idx=0,\n",
    "                               sample_idx=0)\n",
    "\n",
    "del model_1\n",
    "torch.cuda.empty_cache()"
   ]
  },
  {
   "cell_type": "markdown",
   "id": "44ab1d74",
   "metadata": {},
   "source": [
    "### Model 2 - Pretrained Masked MobileNet 3D"
   ]
  },
  {
   "cell_type": "code",
   "execution_count": null,
   "id": "16214716",
   "metadata": {},
   "outputs": [],
   "source": [
    "model_2 = MobileNetV3UNet3D()\n",
    "model_2.encoder.load_state_dict(torch.load(\"./models/pretrained_masked_encoder.pt\"))\n",
    "\n",
    "train_UNet3D_weak_supervision(model=model_2,\n",
    "                              train_loader=train_loader,\n",
    "                              valid_loader=val_loader,\n",
    "                              device=device,\n",
    "                              num_epochs=num_epochs,\n",
    "                              lr=lr,\n",
    "                              log_path=log_path_2,\n",
    "                              model_path=model_path_2,\n",
    "                              patience=patience)\n"
   ]
  },
  {
   "cell_type": "code",
   "execution_count": null,
   "id": "f9a82193",
   "metadata": {},
   "outputs": [],
   "source": [
    "test_3d_unet(model=model_2,\n",
    "             test_loader=test_loader,\n",
    "             model_path=model_path_2,\n",
    "             device=device)\n",
    "\n",
    "visualize_clip_with_overlay(model=model_2,\n",
    "                            test_loader=test_loader,\n",
    "                            model_path=model_path_2,\n",
    "                            device=device)\n",
    "save_overlay_gif_from_loader(model=model_2,\n",
    "                               test_loader=test_loader,\n",
    "                               model_path=model_path_2,\n",
    "                               save_path='./assets/annotated_echocardigram_2.gif',\n",
    "                               batch_idx=0,\n",
    "                               sample_idx=0)\n",
    "\n",
    "del model_2\n",
    "torch.cuda.empty_cache()"
   ]
  },
  {
   "cell_type": "markdown",
   "id": "68504dd0",
   "metadata": {},
   "source": [
    "### Model 3 - Mobilenet 3D - scratch"
   ]
  },
  {
   "cell_type": "code",
   "execution_count": null,
   "id": "c33fe8d4",
   "metadata": {},
   "outputs": [],
   "source": [
    "model_3 = MobileNetV3UNet3D()\n",
    "\n",
    "train_UNet3D_weak_supervision(model=model_3,\n",
    "                              train_loader=train_loader,\n",
    "                              valid_loader=val_loader,\n",
    "                              device=device,\n",
    "                              num_epochs=num_epochs,\n",
    "                              lr=lr,\n",
    "                              log_path=log_path_3,\n",
    "                              model_path=model_path_3,\n",
    "                              patience=patience)"
   ]
  },
  {
   "cell_type": "code",
   "execution_count": null,
   "id": "6bf7229b",
   "metadata": {},
   "outputs": [],
   "source": [
    "test_3d_unet(model=model_3,\n",
    "             test_loader=test_loader,\n",
    "             model_path=model_path_3,\n",
    "             device=device)\n",
    "\n",
    "visualize_clip_with_overlay(model=model_3,\n",
    "                            test_loader=test_loader,\n",
    "                            model_path=model_path_3,\n",
    "                            device=device)\n",
    "save_overlay_gif_from_loader(model=model_3,\n",
    "                               test_loader=test_loader,\n",
    "                               model_path=model_path_3,\n",
    "                               save_path='./assets/annotated_echocardigram_3.gif',\n",
    "                               batch_idx=0,\n",
    "                               sample_idx=0)\n",
    "\n",
    "del model_3\n",
    "torch.cuda.empty_cache()"
   ]
  }
 ],
 "metadata": {
  "kernelspec": {
   "display_name": "mainenv",
   "language": "python",
   "name": "python3"
  },
  "language_info": {
   "codemirror_mode": {
    "name": "ipython",
    "version": 3
   },
   "file_extension": ".py",
   "mimetype": "text/x-python",
   "name": "python",
   "nbconvert_exporter": "python",
   "pygments_lexer": "ipython3",
   "version": "3.12.7"
  }
 },
 "nbformat": 4,
 "nbformat_minor": 5
}
