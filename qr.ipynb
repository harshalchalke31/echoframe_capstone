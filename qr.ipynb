{
 "cells": [
  {
   "cell_type": "code",
   "execution_count": 1,
   "id": "63c00755",
   "metadata": {},
   "outputs": [],
   "source": [
    "import qrcode\n",
    "from PIL import Image\n",
    "\n",
    "# URL to encode\n",
    "url = \"https://github.com/harshalchalke31/echoframe_capstone\"\n",
    "\n",
    "# Generate QR code\n",
    "qr_img = qrcode.make(url)\n",
    "\n",
    "# Convert to RGB mode for JPEG compatibility\n",
    "qr_img = qr_img.convert(\"RGB\")\n",
    "\n",
    "# Save as JPG\n",
    "qr_img.save(\"./assets/github.jpg\", format=\"JPEG\")\n",
    "\n",
    "# Optional: Show the image\n",
    "qr_img.show()\n",
    "\n"
   ]
  }
 ],
 "metadata": {
  "kernelspec": {
   "display_name": "mainenv",
   "language": "python",
   "name": "python3"
  },
  "language_info": {
   "codemirror_mode": {
    "name": "ipython",
    "version": 3
   },
   "file_extension": ".py",
   "mimetype": "text/x-python",
   "name": "python",
   "nbconvert_exporter": "python",
   "pygments_lexer": "ipython3",
   "version": "3.11.0"
  }
 },
 "nbformat": 4,
 "nbformat_minor": 5
}
